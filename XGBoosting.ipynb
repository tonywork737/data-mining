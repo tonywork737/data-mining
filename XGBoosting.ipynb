{
 "cells": [
  {
   "cell_type": "code",
   "execution_count": 1,
   "metadata": {},
   "outputs": [],
   "source": [
    "import pandas as pd\n",
    "import numpy as np\n",
    "from imblearn.over_sampling import SMOTE \n",
    "from sklearn.preprocessing import LabelEncoder\n",
    "from sklearn.preprocessing import StandardScaler\n",
    "from sklearn.preprocessing import OneHotEncoder\n",
    "from datetime import datetime\n",
    "from xgboost import XGBClassifier\n",
    "from sklearn.metrics import confusion_matrix\n",
    "from sklearn.model_selection import train_test_split\n",
    "from sklearn.metrics import classification_report, confusion_matrix\n"
   ]
  },
  {
   "cell_type": "code",
   "execution_count": 2,
   "metadata": {},
   "outputs": [],
   "source": [
    "train_data = pd.read_csv('fraudTrain.csv').drop(columns=['Unnamed: 0'])\n",
    "test_data = pd.read_csv('fraudTest.csv').drop(columns=['Unnamed: 0'])"
   ]
  },
  {
   "cell_type": "markdown",
   "metadata": {},
   "source": [
    "Training Data Preprocessing - Same as Simon's"
   ]
  },
  {
   "cell_type": "code",
   "execution_count": null,
   "metadata": {},
   "outputs": [],
   "source": [
    "transformed_train_data = train_data.copy()\n",
    "\n",
    "# Distance between merchant and customer\n",
    "transformed_train_data['distance'] = np.sqrt((transformed_train_data['lat'] - transformed_train_data['merch_lat'])**2 + (transformed_train_data['long'] - transformed_train_data['merch_long'])**2)\n",
    "\n",
    "# Transforming dob to age\n",
    "transformed_train_data['dob'] = pd.to_datetime(transformed_train_data['dob'])\n",
    "transformed_train_data['age'] = (datetime.now() - transformed_train_data['dob']).dt.days / 365\n",
    "transformed_train_data.drop(columns=['dob'], inplace=True)\n",
    "\n",
    "# Transforming date to day, month, year\n",
    "date = transformed_train_data['trans_date_trans_time'].apply(lambda x: datetime.strptime(x, '%Y-%m-%d %H:%M:%S'))\n",
    "transformed_train_data['hour'] = date.dt.hour\n",
    "transformed_train_data['day'] = date.dt.dayofweek\n",
    "transformed_train_data['month'] = date.dt.month\n",
    "transformed_train_data.drop(columns=['trans_date_trans_time'], inplace=True)\n",
    "\n",
    "# Log-transform skewed data\n",
    "transformed_train_data['amt'] = np.log1p(transformed_train_data['amt'])\n",
    "\n",
    "transformed_train_data.drop(columns=['first', 'last', 'street', 'lat', 'long', 'merch_lat', 'merch_long', 'cc_num', 'trans_num', 'unix_time', 'job'], inplace=True)\n",
    "\n",
    "# Transforming categorical data (Label encoding)\n",
    "label_encoder = LabelEncoder()\n",
    "label_vars = ['gender']\n",
    "\n",
    "for var in label_vars:\n",
    "    transformed_train_data[var] = label_encoder.fit_transform(transformed_train_data[var])\n",
    "\n",
    "# Fit frequency encoding on training data\n",
    "frequency_vars = ['merchant', 'city', 'state', 'category', 'zip']\n",
    "frequency_encodings = {}\n",
    "\n",
    "for col in frequency_vars:\n",
    "    freq_encoding = transformed_train_data[col].value_counts(normalize=True).to_dict()\n",
    "    frequency_encodings[col] = freq_encoding\n",
    "    transformed_train_data[col] = transformed_train_data[col].map(freq_encoding)"
   ]
  },
  {
   "cell_type": "markdown",
   "metadata": {},
   "source": [
    "Test Data Preprocessing - Slight tweak to Simon's. I made sure to apply the same label and frequency encoding to the test data as he did in the training data."
   ]
  },
  {
   "cell_type": "code",
   "execution_count": null,
   "metadata": {},
   "outputs": [],
   "source": [
    "transformed_test_data = test_data.copy()\n",
    "\n",
    "# Distance between merchant and customer\n",
    "transformed_test_data['distance'] = np.sqrt((transformed_test_data['lat'] - transformed_test_data['merch_lat'])**2 + (transformed_test_data['long'] - transformed_test_data['merch_long'])**2)\n",
    "\n",
    "# Transforming dob to age\n",
    "transformed_test_data['dob'] = pd.to_datetime(transformed_test_data['dob'])\n",
    "transformed_test_data['age'] = (datetime.now() - transformed_test_data['dob']).dt.days / 365\n",
    "transformed_test_data.drop(columns=['dob'], inplace=True)\n",
    "\n",
    "# Transforming date to day, month, year\n",
    "date = transformed_test_data['trans_date_trans_time'].apply(lambda x: datetime.strptime(x, '%Y-%m-%d %H:%M:%S'))\n",
    "transformed_test_data['hour'] = date.dt.hour\n",
    "transformed_test_data['day'] = date.dt.dayofweek\n",
    "transformed_test_data['month'] = date.dt.month\n",
    "transformed_test_data.drop(columns=['trans_date_trans_time'], inplace=True)\n",
    "\n",
    "# Log-transform skewed data\n",
    "transformed_test_data['amt'] = np.log1p(transformed_test_data['amt'])\n",
    "\n",
    "transformed_test_data.drop(columns=['first', 'last', 'street', 'lat', 'long', 'merch_lat', 'merch_long', 'cc_num', 'trans_num', 'unix_time', 'job'], inplace=True)\n",
    "\n",
    "# Make sure to apply same label encoding to test data\n",
    "for var in label_vars:\n",
    "    transformed_test_data[var] = label_encoder.fit_transform(transformed_test_data[var])\n",
    "\n",
    "# Make sure to pply the same frequency encoding to the test data\n",
    "for col in frequency_vars:\n",
    "    transformed_test_data[col] = transformed_test_data[col].map(frequency_encodings[col]).fillna(0)  # fill NaNs with 0 or another appropriate value"
   ]
  },
  {
   "cell_type": "markdown",
   "metadata": {},
   "source": [
    "I tried applying smote and actually got a lower utility, so moved forward with a very simple model below. I haven't changed any of the parameters in the XGBClassifier, so I am sure we could tweak to make the model even better. "
   ]
  },
  {
   "cell_type": "code",
   "execution_count": null,
   "metadata": {},
   "outputs": [],
   "source": [
    "y_train = transformed_train_data['is_fraud']\n",
    "X_train = transformed_train_data.drop('is_fraud', axis=1)\n",
    "\n",
    "y_test = transformed_test_data['is_fraud']\n",
    "X_test = transformed_test_data.drop('is_fraud', axis=1)\n",
    "\n",
    "# Apply SMOTE to balance the training data \n",
    "#smote = SMOTE(random_state=42)\n",
    "#X_train_res, y_train_res = smote.fit_resample(X_train, y_train)\n",
    "\n",
    "#Feature Scaling\n",
    "#scaler = StandardScaler()\n",
    "#X_train_scaled = scaler.fit_transform(X_train_res)\n",
    "#X_test_scaled = scaler.transform(X_test)"
   ]
  },
  {
   "cell_type": "code",
   "execution_count": null,
   "metadata": {},
   "outputs": [
    {
     "name": "stderr",
     "output_type": "stream",
     "text": [
      "c:\\Users\\beakl\\anaconda3\\envs\\myenv\\lib\\site-packages\\xgboost\\core.py:158: UserWarning: [10:39:37] WARNING: C:\\b\\abs_90_bwj_86a\\croot\\xgboost-split_1724073762025\\work\\src\\learner.cc:740: \n",
      "Parameters: { \"use_label_encoder\" } are not used.\n",
      "\n",
      "  warnings.warn(smsg, UserWarning)\n"
     ]
    },
    {
     "name": "stdout",
     "output_type": "stream",
     "text": [
      "              precision    recall  f1-score   support\n",
      "\n",
      "           0       1.00      0.99      0.99    553574\n",
      "           1       0.23      0.96      0.37      2145\n",
      "\n",
      "    accuracy                           0.99    555719\n",
      "   macro avg       0.62      0.97      0.68    555719\n",
      "weighted avg       1.00      0.99      0.99    555719\n",
      "\n",
      "[[546775   6799]\n",
      " [    90   2055]]\n",
      "Total Utility: 59755\n"
     ]
    }
   ],
   "source": [
    "# Balance the classes via scale_pos_weight\n",
    "scale_pos_weight = y_train.value_counts()[0] / y_train.value_counts()[1]\n",
    "\n",
    "# Initialize XGBoost model\n",
    "model = XGBClassifier(\n",
    "    objective='binary:logistic',\n",
    "    scale_pos_weight=scale_pos_weight,\n",
    "    n_estimators=100,\n",
    "    learning_rate=0.1,\n",
    "    max_depth=6,\n",
    "    subsample=0.8,\n",
    "    colsample_bytree=0.8,\n",
    "    use_label_encoder=False,\n",
    "    eval_metric='auc'\n",
    ")\n",
    "\n",
    "model.fit(X_train, y_train)\n",
    "\n",
    "# Predict on the test set\n",
    "y_pred = model.predict(X_test)\n",
    "y_pred_proba = model.predict_proba(X_test)[:,1]\n",
    "\n",
    "print(classification_report(y_test, y_pred))\n",
    "cm = confusion_matrix(y_test, y_pred)\n",
    "print(cm)\n",
    "\n",
    "TP = cm[1, 1]\n",
    "FN = cm[1, 0]\n",
    "FP = cm[0, 1]\n",
    "\n",
    "S_minus_L = 50  \n",
    "C = 100         \n",
    "P = 5           \n",
    "utility = TP * S_minus_L - FN * C - FP * P\n",
    "print(f'Total Utility: {utility}')\n"
   ]
  }
 ],
 "metadata": {
  "kernelspec": {
   "display_name": "myenv",
   "language": "python",
   "name": "python3"
  },
  "language_info": {
   "codemirror_mode": {
    "name": "ipython",
    "version": 3
   },
   "file_extension": ".py",
   "mimetype": "text/x-python",
   "name": "python",
   "nbconvert_exporter": "python",
   "pygments_lexer": "ipython3",
   "version": "3.9.21"
  }
 },
 "nbformat": 4,
 "nbformat_minor": 2
}
